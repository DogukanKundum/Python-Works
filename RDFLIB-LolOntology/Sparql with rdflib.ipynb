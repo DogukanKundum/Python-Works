{
 "cells": [
  {
   "cell_type": "code",
   "execution_count": 1,
   "metadata": {},
   "outputs": [
    {
     "name": "stderr",
     "output_type": "stream",
     "text": [
      "* Owlready2 * Warning: optimized Cython parser module 'owlready2_optimized' is not available, defaulting to slower Python implementation\n"
     ]
    }
   ],
   "source": [
    "from owlready2 import *"
   ]
  },
  {
   "cell_type": "code",
   "execution_count": 2,
   "metadata": {},
   "outputs": [],
   "source": [
    "onto = get_ontology(\"lolOntology.owl\").load()"
   ]
  },
  {
   "cell_type": "code",
   "execution_count": 3,
   "metadata": {},
   "outputs": [
    {
     "data": {
      "text/plain": [
       "[untitled-ontology-4.Item, untitled-ontology-8.Characters_Class]"
      ]
     },
     "execution_count": 3,
     "metadata": {},
     "output_type": "execute_result"
    }
   ],
   "source": [
    "list(onto.classes())"
   ]
  },
  {
   "cell_type": "code",
   "execution_count": 4,
   "metadata": {},
   "outputs": [
    {
     "data": {
      "text/plain": [
       "[lolOntology.Black_Cleaver,\n",
       " lolOntology.Kindlegem,\n",
       " lolOntology.Phage,\n",
       " untitled-ontology-4.Ruby_Crystal,\n",
       " lolOntology.Long_Sword,\n",
       " untitled-ontology-4.Abyssal_Mask,\n",
       " untitled-ontology-4.Catalyst_of_Aeons,\n",
       " untitled-ontology-4.Negatron_Cloak,\n",
       " untitled-ontology-4.Sapphire_Crystal,\n",
       " untitled-ontology-4.Null-Magic_Mantle,\n",
       " untitled-ontology-8.Ashe,\n",
       " untitled-ontology-8.Lissandra,\n",
       " untitled-ontology-8.Evelynn,\n",
       " untitled-ontology-8.TwistedFate,\n",
       " untitled-ontology-8.Kayle,\n",
       " untitled-ontology-8.Morgana,\n",
       " untitled-ontology-8.Nasus,\n",
       " untitled-ontology-8.Renekton,\n",
       " untitled-ontology-8.Rakan,\n",
       " untitled-ontology-8.Xayah]"
      ]
     },
     "execution_count": 4,
     "metadata": {},
     "output_type": "execute_result"
    }
   ],
   "source": [
    "list(onto.individuals())"
   ]
  },
  {
   "cell_type": "code",
   "execution_count": 5,
   "metadata": {},
   "outputs": [
    {
     "data": {
      "text/plain": [
       "[untitled-ontology-8.Rakan]"
      ]
     },
     "execution_count": 5,
     "metadata": {},
     "output_type": "execute_result"
    }
   ],
   "source": [
    "onto.search(iri = \"*Rakan\")"
   ]
  },
  {
   "cell_type": "code",
   "execution_count": 6,
   "metadata": {},
   "outputs": [],
   "source": [
    "with onto:\n",
    "    class Item(Thing):\n",
    "        pass"
   ]
  },
  {
   "cell_type": "code",
   "execution_count": 7,
   "metadata": {},
   "outputs": [
    {
     "name": "stdout",
     "output_type": "stream",
     "text": [
      "http://www.semanticweb.org/okanciftci/ontologies/2019/11/lolOntology#Item\n"
     ]
    }
   ],
   "source": [
    "print(Item.iri)"
   ]
  },
  {
   "cell_type": "code",
   "execution_count": 1,
   "metadata": {},
   "outputs": [
    {
     "data": {
      "text/plain": [
       "<Graph identifier=Nf6f8985eb4384a118162345eb58cb7aa (<class 'rdflib.graph.Graph'>)>"
      ]
     },
     "execution_count": 1,
     "metadata": {},
     "output_type": "execute_result"
    }
   ],
   "source": [
    "import rdflib\n",
    "g = rdflib.Graph()\n",
    "\n",
    "g.parse(\"RDFOntology.rdf\")"
   ]
  },
  {
   "cell_type": "code",
   "execution_count": 2,
   "metadata": {},
   "outputs": [
    {
     "name": "stdout",
     "output_type": "stream",
     "text": [
      "(rdflib.term.URIRef(u'http://www.w3.org/2002/07/owl#DatatypeProperty'),)\n",
      "(rdflib.term.URIRef(u'http://www.semanticweb.org/tulpar/ontologies/2019/11/untitled-ontology-8#Characters_Class'),)\n",
      "(rdflib.term.URIRef(u'http://www.w3.org/2002/07/owl#ObjectProperty'),)\n",
      "(rdflib.term.URIRef(u'http://www.semanticweb.org/okanciftci/ontologies/2019/11/untitled-ontology-4#Item'),)\n",
      "(rdflib.term.URIRef(u'http://www.w3.org/2002/07/owl#NamedIndividual'),)\n",
      "(rdflib.term.URIRef(u'http://www.w3.org/2002/07/owl#Class'),)\n",
      "(rdflib.term.URIRef(u'http://www.w3.org/2002/07/owl#Ontology'),)\n"
     ]
    }
   ],
   "source": [
    "qres = g.query(\n",
    "    \"\"\"\n",
    "SELECT DISTINCT ?type\n",
    "WHERE {\n",
    "  ?s a ?type.\n",
    "}\n",
    "       \"\"\")\n",
    "\n",
    "for row in qres:\n",
    "    print(row)\n"
   ]
  },
  {
   "cell_type": "code",
   "execution_count": 15,
   "metadata": {},
   "outputs": [],
   "source": [
    "qres2 = g.query(\n",
    "\"\"\"\n",
    "\n",
    "PREFIX rdfs: <http://www.w3.org/2000/01/rdf-schema#>\n",
    "PREFIX rdf: <http://www.w3.org/1999/02/22-rdf-syntax-ns#>\n",
    "SELECT ?subject ?label\n",
    "WHERE {\n",
    "    ?subject rdf:type <http://www.semanticweb.org/okanciftci/ontologies/2019/11/untitled-ontology-4#Item> .\n",
    "\n",
    "} LIMIT 100\n",
    "\n",
    "\"\"\")"
   ]
  },
  {
   "cell_type": "code",
   "execution_count": 17,
   "metadata": {},
   "outputs": [
    {
     "name": "stdout",
     "output_type": "stream",
     "text": [
      "(rdflib.term.URIRef('http://www.semanticweb.org/okanciftci/ontologies/2019/11/lolOntology#Black_Cleaver'), None)\n",
      "(rdflib.term.URIRef('http://www.semanticweb.org/okanciftci/ontologies/2019/11/untitled-ontology-4#Negatron_Cloak'), None)\n",
      "(rdflib.term.URIRef('http://www.semanticweb.org/okanciftci/ontologies/2019/11/lolOntology#Long_Sword'), None)\n",
      "(rdflib.term.URIRef('http://www.semanticweb.org/okanciftci/ontologies/2019/11/untitled-ontology-4#Abyssal_Mask'), None)\n",
      "(rdflib.term.URIRef('http://www.semanticweb.org/okanciftci/ontologies/2019/11/untitled-ontology-4#Sapphire_Crystal'), None)\n",
      "(rdflib.term.URIRef('http://www.semanticweb.org/okanciftci/ontologies/2019/11/lolOntology#Phage'), None)\n",
      "(rdflib.term.URIRef('http://www.semanticweb.org/okanciftci/ontologies/2019/11/untitled-ontology-4#Ruby_Crystal'), None)\n",
      "(rdflib.term.URIRef('http://www.semanticweb.org/okanciftci/ontologies/2019/11/untitled-ontology-4#Null-Magic_Mantle'), None)\n",
      "(rdflib.term.URIRef('http://www.semanticweb.org/okanciftci/ontologies/2019/11/untitled-ontology-4#Catalyst_of_Aeons'), None)\n",
      "(rdflib.term.URIRef('http://www.semanticweb.org/okanciftci/ontologies/2019/11/lolOntology#Kindlegem'), None)\n"
     ]
    }
   ],
   "source": [
    "for row in qres2:\n",
    "    print(row)"
   ]
  },
  {
   "cell_type": "code",
   "execution_count": 31,
   "metadata": {},
   "outputs": [],
   "source": [
    "qres3 = g.query(\n",
    "\"\"\"\n",
    "SELECT ?p ?o\n",
    "{ \n",
    "  <http://www.semanticweb.org/okanciftci/ontologies/2019/11/lolOntology#Black_Cleaver> ?p ?o\n",
    "}\n",
    "\"\"\")"
   ]
  },
  {
   "cell_type": "code",
   "execution_count": 32,
   "metadata": {},
   "outputs": [
    {
     "name": "stdout",
     "output_type": "stream",
     "text": [
      "(rdflib.term.URIRef('http://www.w3.org/1999/02/22-rdf-syntax-ns#type'), rdflib.term.URIRef('http://www.semanticweb.org/okanciftci/ontologies/2019/11/untitled-ontology-4#Item'))\n",
      "(rdflib.term.URIRef('http://www.semanticweb.org/okanciftci/ontologies/2019/11/untitled-ontology-4#cost'), rdflib.term.Literal('3000', datatype=rdflib.term.URIRef('http://www.w3.org/2001/XMLSchema#integer')))\n",
      "(rdflib.term.URIRef('http://www.w3.org/1999/02/22-rdf-syntax-ns#type'), rdflib.term.URIRef('http://www.w3.org/2002/07/owl#NamedIndividual'))\n",
      "(rdflib.term.URIRef('http://www.semanticweb.org/okanciftci/ontologies/2019/11/untitled-ontology-4#cost'), rdflib.term.Literal('400', datatype=rdflib.term.URIRef('http://www.w3.org/2001/XMLSchema#integer')))\n",
      "(rdflib.term.URIRef('http://www.semanticweb.org/okanciftci/ontologies/2019/11/untitled-ontology-4#subItems'), rdflib.term.URIRef('http://www.semanticweb.org/okanciftci/ontologies/2019/11/lolOntology#Phage'))\n",
      "(rdflib.term.URIRef('http://www.semanticweb.org/okanciftci/ontologies/2019/11/untitled-ontology-4#subItems'), rdflib.term.URIRef('http://www.semanticweb.org/okanciftci/ontologies/2019/11/lolOntology#Kindlegem'))\n",
      "(rdflib.term.URIRef('http://www.semanticweb.org/tulpar/ontologies/2019/11/untitled-ontology-8#attackDamage'), rdflib.term.Literal('40', datatype=rdflib.term.URIRef('http://www.w3.org/2001/XMLSchema#integer')))\n",
      "(rdflib.term.URIRef('http://www.semanticweb.org/okanciftci/ontologies/2019/11/untitled-ontology-4#passive'), rdflib.term.Literal('UNIQUE Passive: Dealing physical damage to an enemy champion Cleaves them, reducing their Armor by 4% for 6 seconds (stacks up to 6 times, up to 24%).UNIQUE Passive - Rage: Dealing physical damage grants 20 movement speed for 2 seconds. Assists on Cleaved enemy champions or kills on any unit grant 60 movement speed for 2 seconds instead. This Movement Speed is halved for ranged champions.', datatype=rdflib.term.URIRef('http://www.w3.org/2001/XMLSchema#string')))\n",
      "(rdflib.term.URIRef('http://www.semanticweb.org/okanciftci/ontologies/2019/11/untitled-ontology-4#name'), rdflib.term.Literal('Black Cleaver', datatype=rdflib.term.URIRef('http://www.w3.org/2001/XMLSchema#string')))\n"
     ]
    }
   ],
   "source": [
    "for row in qres3:\n",
    "    print(row)"
   ]
  },
  {
   "cell_type": "code",
   "execution_count": null,
   "metadata": {},
   "outputs": [],
   "source": []
  },
  {
   "cell_type": "code",
   "execution_count": null,
   "metadata": {},
   "outputs": [],
   "source": []
  }
 ],
 "metadata": {
  "kernelspec": {
   "display_name": "Python 2",
   "language": "python",
   "name": "python2"
  },
  "language_info": {
   "codemirror_mode": {
    "name": "ipython",
    "version": 2
   },
   "file_extension": ".py",
   "mimetype": "text/x-python",
   "name": "python",
   "nbconvert_exporter": "python",
   "pygments_lexer": "ipython2",
   "version": "2.7.16"
  }
 },
 "nbformat": 4,
 "nbformat_minor": 2
}
